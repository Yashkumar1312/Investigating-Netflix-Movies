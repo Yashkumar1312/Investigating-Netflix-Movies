import pandas as pd
import matplotlib.pyplot as plt

#Initialize and read Netflix csv file
netflix_df = pd.read_csv("netflix_data.csv")

#Print the first 2 rows of the dataframe
netflix_df.head(2)


netflix_subset = netflix_df[netflix_df["type"] == "Movie"]

#Filtering data that show data between 1990s to 1999
movies_1990s = netflix_subset[(netflix_subset["release_year"] >= 1990) & (netflix_subset["release_year"] < 2000)]

#Filtering Action movies
action_movies_1990s = movies_1990s[movies_1990s["genre"] == "Action"]

#count all action movies which duration is less than 90 minutes.
short_movie_count = (action_movies_1990s["duration"] < 90).sum()
print(short_movie_count)
